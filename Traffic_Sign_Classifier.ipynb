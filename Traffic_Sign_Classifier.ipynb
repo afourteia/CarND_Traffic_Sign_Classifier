{
 "cells": [
  {
   "cell_type": "markdown",
   "metadata": {},
   "source": [
    "# Self-Driving Car Engineer Nanodegree\n",
    "\n",
    "## Deep Learning\n",
    "\n",
    "## Project: Build a Traffic Sign Recognition Classifier\n",
    "\n",
    "In this notebook, a template is provided for you to implement your functionality in stages, which is required to successfully complete this project. If additional code is required that cannot be included in the notebook, be sure that the Python code is successfully imported and included in your submission if necessary. \n",
    "\n",
    "> **Note**: Once you have completed all of the code implementations, you need to finalize your work by exporting the iPython Notebook as an HTML document. Before exporting the notebook to html, all of the code cells need to have been run so that reviewers can see the final implementation and output. You can then export the notebook by using the menu above and navigating to  \\n\",\n",
    "    \"**File -> Download as -> HTML (.html)**. Include the finished document along with this notebook as your submission. \n",
    "\n",
    "In addition to implementing code, there is a writeup to complete. The writeup should be completed in a separate file, which can be either a markdown file or a pdf document. There is a [write up template](https://github.com/udacity/CarND-Traffic-Sign-Classifier-Project/blob/master/writeup_template.md) that can be used to guide the writing process. Completing the code template and writeup template will cover all of the [rubric points](https://review.udacity.com/#!/rubrics/481/view) for this project.\n",
    "\n",
    "The [rubric](https://review.udacity.com/#!/rubrics/481/view) contains \"Stand Out Suggestions\" for enhancing the project beyond the minimum requirements. The stand out suggestions are optional. If you decide to pursue the \"stand out suggestions\", you can include the code in this Ipython notebook and also discuss the results in the writeup file.\n",
    "\n",
    "\n",
    ">**Note:** Code and Markdown cells can be executed using the **Shift + Enter** keyboard shortcut. In addition, Markdown cells can be edited by typically double-clicking the cell to enter edit mode."
   ]
  },
  {
   "cell_type": "markdown",
   "metadata": {},
   "source": [
    "---\n",
    "## Step 0: Load The Data"
   ]
  },
  {
   "cell_type": "code",
   "execution_count": 1,
   "metadata": {},
   "outputs": [
    {
     "name": "stdout",
     "output_type": "stream",
     "text": [
      "train features shape: (34799, 32, 32, 3)\n",
      "train labels shape: (34799,)\n",
      "test features: (12630, 32, 32, 3)\n",
      "test labels shape: (12630,)\n",
      "valid features shape: (4410, 32, 32, 3)\n",
      "valid lables shape: (4410,)\n"
     ]
    }
   ],
   "source": [
    "# Load pickled data\n",
    "import pickle, os\n",
    "\n",
    "from sklearn.utils import shuffle\n",
    "import tensorflow as tf\n",
    "import pandas  as pd\n",
    "import matplotlib.image as mpimg\n",
    "import cv2\n",
    "import math\n",
    "import numpy as np\n",
    "import matplotlib.pyplot as plt\n",
    "import matplotlib.image as mpimg\n",
    "import random\n",
    "# Visualizations will be shown in the notebook.\n",
    "%matplotlib inline\n",
    "\n",
    "# TODO: Fill this in based on where you saved the training and testing data\n",
    "\n",
    "path = r\"C:\\Users\\AbdulRaoph\\CarND-Traffic-Sign-Classifier-Project/\"\n",
    "\n",
    "training_file = os.path.join(path , \"Traffic-signs-data-set/train.p\") \n",
    "validation_file= os.path.join(path , \"Traffic-signs-data-set/valid.p\") \n",
    "testing_file = os.path.join(path , \"Traffic-signs-data-set/test.p\") \n",
    "\n",
    "with open(training_file, mode='rb') as f:\n",
    "    train = pickle.load(f)\n",
    "with open(validation_file, mode='rb') as f:\n",
    "    valid = pickle.load(f)\n",
    "with open(testing_file, mode='rb') as f:\n",
    "    test = pickle.load(f)\n",
    "    \n",
    "X_train, y_train = train['features'], train['labels']\n",
    "X_valid, y_valid = valid['features'], valid['labels']\n",
    "X_test, y_test = test['features'], test['labels']\n",
    "\n",
    "# Storing the original data in another array\n",
    "X_train_color, y_train_color = X_train, y_train \n",
    "X_valid_color, y_valid_color = X_valid, y_valid\n",
    "X_test_color, y_test_color = X_test, y_test\n",
    "\n",
    "print(\"train features shape:\", train['features'].shape)\n",
    "print(\"train labels shape:\", train['labels'].shape)\n",
    "print(\"test features:\",test['features'].shape)\n",
    "print(\"test labels shape:\",test['labels'].shape)\n",
    "print(\"valid features shape:\", valid['features'].shape)\n",
    "print(\"valid lables shape:\", valid['labels'].shape)"
   ]
  },
  {
   "cell_type": "markdown",
   "metadata": {},
   "source": [
    "---\n",
    "\n",
    "## Step 1: Dataset Summary & Exploration\n",
    "\n",
    "The pickled data is a dictionary with 4 key/value pairs:\n",
    "\n",
    "- `'features'` is a 4D array containing raw pixel data of the traffic sign images, (num examples, width, height, channels).\n",
    "- `'labels'` is a 1D array containing the label/class id of the traffic sign. The file `signnames.csv` contains id -> name mappings for each id.\n",
    "- `'sizes'` is a list containing tuples, (width, height) representing the original width and height the image.\n",
    "- `'coords'` is a list containing tuples, (x1, y1, x2, y2) representing coordinates of a bounding box around the sign in the image. **THESE COORDINATES ASSUME THE ORIGINAL IMAGE. THE PICKLED DATA CONTAINS RESIZED VERSIONS (32 by 32) OF THESE IMAGES**\n",
    "\n",
    "Complete the basic data summary below. Use python, numpy and/or pandas methods to calculate the data summary rather than hard coding the results. For example, the [pandas shape method](http://pandas.pydata.org/pandas-docs/stable/generated/pandas.DataFrame.shape.html) might be useful for calculating some of the summary results. "
   ]
  },
  {
   "cell_type": "markdown",
   "metadata": {},
   "source": [
    "### Provide a Basic Summary of the Data Set Using Python, Numpy and/or Pandas"
   ]
  },
  {
   "cell_type": "code",
   "execution_count": 2,
   "metadata": {},
   "outputs": [
    {
     "name": "stdout",
     "output_type": "stream",
     "text": [
      "Number of training examples = 34799\n",
      "Number of testing examples = 12630\n",
      "Image data shape = (32, 32, 3)\n",
      "Number of classes = 43\n"
     ]
    }
   ],
   "source": [
    "### Replace each question mark with the appropriate value. \n",
    "### Use python, pandas or numpy methods rather than hard coding the results\n",
    "\n",
    "# TODO: Number of training examples\n",
    "n_train = X_train.shape[0]\n",
    "\n",
    "# TODO: Number of validation examples\n",
    "n_validation = X_valid.shape[0]\n",
    "\n",
    "# TODO: Number of testing examples.\n",
    "n_test = X_test.shape[0]\n",
    "\n",
    "# TODO: What's the shape of an traffic sign image?\n",
    "image_shape = X_test[0].shape\n",
    "\n",
    "# TODO: How many unique classes/labels there are in the dataset.\n",
    "n_classes = len(np.unique(y_train))\n",
    "\n",
    "print(\"Number of training examples =\", n_train)\n",
    "print(\"Number of testing examples =\", n_test)\n",
    "print(\"Image data shape =\", image_shape)\n",
    "print(\"Number of classes =\", n_classes)"
   ]
  },
  {
   "cell_type": "markdown",
   "metadata": {},
   "source": [
    "### Include an exploratory visualization of the dataset"
   ]
  },
  {
   "cell_type": "markdown",
   "metadata": {},
   "source": [
    "Visualize the German Traffic Signs Dataset using the pickled file(s). This is open ended, suggestions include: plotting traffic sign images, plotting the count of each sign, etc. \n",
    "\n",
    "The [Matplotlib](http://matplotlib.org/) [examples](http://matplotlib.org/examples/index.html) and [gallery](http://matplotlib.org/gallery.html) pages are a great resource for doing visualizations in Python.\n",
    "\n",
    "**NOTE:** It's recommended you start with something simple first. If you wish to do more, come back to it after you've completed the rest of the sections. It can be interesting to look at the distribution of classes in the training, validation and test set. Is the distribution the same? Are there more examples of some classes than others?"
   ]
  },
  {
   "cell_type": "code",
   "execution_count": 3,
   "metadata": {},
   "outputs": [
    {
     "data": {
      "text/plain": [
       "'signimage = []\\nexamples = plt.figure()\\nexamples.set_figwidth(10)\\nexamples.set_figheight(10)\\nfor i in range(25):\\n    img = examples.add_subplot(5, 5, i + 1)\\n    image = X_train[random.randint(0,len(X_train) - 1)].squeeze()\\n    img.imshow(image)'"
      ]
     },
     "execution_count": 3,
     "metadata": {},
     "output_type": "execute_result"
    }
   ],
   "source": [
    "### Data exploration visualization code goes here.\n",
    "### Feel free to use as many code cells as needed.\n",
    "\n",
    "\n",
    "#DISPLAY 25 random images\n",
    "\"\"\"signimage = []\n",
    "examples = plt.figure()\n",
    "examples.set_figwidth(10)\n",
    "examples.set_figheight(10)\n",
    "for i in range(25):\n",
    "    img = examples.add_subplot(5, 5, i + 1)\n",
    "    image = X_train[random.randint(0,len(X_train) - 1)].squeeze()\n",
    "    img.imshow(image)\"\"\""
   ]
  },
  {
   "cell_type": "code",
   "execution_count": 4,
   "metadata": {},
   "outputs": [
    {
     "data": {
      "image/png": "[encoded data removed]",
      "text/plain": [
       "<matplotlib.figure.Figure at 0x21018e774e0>"
      ]
     },
     "metadata": {},
     "output_type": "display_data"
    }
   ],
   "source": [
    "# Class distrubtion of the training set\n",
    "Distribution, bins = np.histogram(y_train, bins = n_classes)\n",
    "plt.hist(y_train,n_classes)\n",
    "plt.axis([0,n_classes-1,0,2500])\n",
    "plt.xlabel(\"Classes\")\n",
    "plt.ylabel(\"Occurrences\")\n",
    "plt.show()"
   ]
  },
  {
   "cell_type": "markdown",
   "metadata": {},
   "source": [
    "----\n",
    "\n",
    "## Step 2: Design and Test a Model Architecture\n",
    "\n",
    "Design and implement a deep learning model that learns to recognize traffic signs. Train and test your model on the [German Traffic Sign Dataset](http://benchmark.ini.rub.de/?section=gtsrb&subsection=dataset).\n",
    "\n",
    "The LeNet-5 implementation shown in the [classroom](https://classroom.udacity.com/nanodegrees/nd013/parts/fbf77062-5703-404e-b60c-95b78b2f3f9e/modules/6df7ae49-c61c-4bb2-a23e-6527e69209ec/lessons/601ae704-1035-4287-8b11-e2c2716217ad/concepts/d4aca031-508f-4e0b-b493-e7b706120f81) at the end of the CNN lesson is a solid starting point. You'll have to change the number of classes and possibly the preprocessing, but aside from that it's plug and play! \n",
    "\n",
    "With the LeNet-5 solution from the lecture, you should expect a validation set accuracy of about 0.89. To meet specifications, the validation set accuracy will need to be at least 0.93. It is possible to get an even higher accuracy, but 0.93 is the minimum for a successful project submission. \n",
    "\n",
    "There are various aspects to consider when thinking about this problem:\n",
    "\n",
    "- Neural network architecture (is the network over or underfitting?)\n",
    "- Play around preprocessing techniques (normalization, rgb to grayscale, etc)\n",
    "- Number of examples per label (some have more than others).\n",
    "- Generate fake data.\n",
    "\n",
    "Here is an example of a [published baseline model on this problem](http://yann.lecun.com/exdb/publis/pdf/sermanet-ijcnn-11.pdf). It's not required to be familiar with the approach used in the paper but, it's good practice to try to read papers like these."
   ]
  },
  {
   "cell_type": "markdown",
   "metadata": {},
   "source": [
    "### Pre-process the Data Set (normalization, grayscale, etc.)"
   ]
  },
  {
   "cell_type": "markdown",
   "metadata": {},
   "source": [
    "Minimally, the image data should be normalized so that the data has mean zero and equal variance. For image data, `(pixel - 128)/ 128` is a quick way to approximately normalize the data and can be used in this project. \n",
    "\n",
    "Other pre-processing steps are optional. You can try different techniques to see if it improves performance. \n",
    "\n",
    "Use the code cell (or multiple code cells, if necessary) to implement the first step of your project."
   ]
  },
  {
   "cell_type": "code",
   "execution_count": 5,
   "metadata": {},
   "outputs": [],
   "source": [
    "### Preprocess the data here. It is required to normalize the data. Other preprocessing steps could include \n",
    "### converting to grayscale, etc.\n",
    "### Feel free to use as many code cells as needed.\n"
   ]
  },
  {
   "cell_type": "code",
   "execution_count": 6,
   "metadata": {},
   "outputs": [],
   "source": [
    "def grayscale(image_set):\n",
    "    \"\"\"Applies the Grayscale transform\n",
    "    This will return an image with only one color channel\n",
    "    but NOTE: to see the returned image as grayscale\n",
    "    (assuming your grayscaled image is called 'gray')\n",
    "    you should call plt.imshow(gray, cmap='gray')\"\"\"\n",
    "    \n",
    "    image_gray = []\n",
    "    for img in image_set:\n",
    "        temp = cv2.cvtColor(img, cv2.COLOR_BGR2GRAY)\n",
    "        temp = temp.reshape(32,32,1)\n",
    "        image_gray.append(temp)\n",
    "    \n",
    "    #image_gray = np.sum(image_set/3, axis=3, keepdims=True)\n",
    "    \n",
    "\n",
    "    return np.array(image_gray)\n",
    "\n",
    "def normalize_image(image_set):\n",
    "    \"\"\"\n",
    "    Normalize the image data with Min-Max scaling to a range of [a, b]\n",
    "    :param image_data: The image data to be normalized\n",
    "    :return: Normalized image data\n",
    "    \"\"\"\n",
    "    a = -1.0\n",
    "    b = 1.0\n",
    "    grayscale_min = 0.0\n",
    "    grayscale_max = 255.0\n",
    "    image_norm =[]\n",
    "    for img in image_set:\n",
    "        temp = a + ( ( (img - grayscale_min)*(b - a) )/( grayscale_max - grayscale_min ) )\n",
    "        image_norm.append(temp)\n",
    "    \n",
    "    return np.array(image_norm)\n",
    "\n",
    "def view_images(image_set):\n",
    "    \"\"\" Displays a grid of images from an image array\n",
    "    This function can plot both color and gray images\"\"\"\n",
    "    n_rows = 8\n",
    "    n_cols = 10\n",
    "    offset = 9000\n",
    "    fig, axs = plt.subplots(n_rows,n_cols, figsize=(18, 14))\n",
    "    fig.subplots_adjust(hspace = .1, wspace=.001)\n",
    "    axs = axs.ravel()\n",
    "    for j in range(0,n_rows,1):\n",
    "        for i in range(n_cols):\n",
    "            index = i + j*n_cols\n",
    "            if image_set.shape[3] == 1:\n",
    "                image = image_set[index + offset].squeeze()\n",
    "                axs[index].axis('off')\n",
    "                axs[index].imshow(image, cmap='gray')\n",
    "            else:\n",
    "                image = image_set[index + offset]\n",
    "                axs[index].axis('off')\n",
    "                axs[index].imshow(image)"
   ]
  },
  {
   "cell_type": "code",
   "execution_count": 7,
   "metadata": {},
   "outputs": [],
   "source": [
    "#View a series of images\n",
    "# view_images(X_train)"
   ]
  },
  {
   "cell_type": "markdown",
   "metadata": {},
   "source": [
    "\n",
    "Images need to be reshufled"
   ]
  },
  {
   "cell_type": "code",
   "execution_count": 8,
   "metadata": {},
   "outputs": [],
   "source": [
    "## Shuffle the training dataset\n",
    "X_train, y_train = shuffle(X_train, y_train)\n",
    "# view_images(X_train)"
   ]
  },
  {
   "cell_type": "markdown",
   "metadata": {},
   "source": [
    "\n",
    "Better"
   ]
  },
  {
   "cell_type": "code",
   "execution_count": 9,
   "metadata": {},
   "outputs": [
    {
     "name": "stdout",
     "output_type": "stream",
     "text": [
      "Shape of X_train (34799, 32, 32, 3)\n",
      "Shape of X_train_gray (34799, 32, 32, 1)\n",
      "Shape of X_train_norm (34799, 32, 32, 1)\n",
      "Mean of the gray image training set 81.0164767666\n",
      "Mean of the normalized image training set -0.364576652811\n",
      "Mean of the gray image testing set 80.4949869018\n",
      "Mean of the normalized image testing set -0.368666769397\n"
     ]
    },
    {
     "data": {
      "text/plain": [
       "<matplotlib.image.AxesImage at 0x21019061a20>"
      ]
     },
     "execution_count": 9,
     "metadata": {},
     "output_type": "execute_result"
    },
    {
     "data": {
      "image/png": "[encoded data removed]",
      "text/plain": [
       "<matplotlib.figure.Figure at 0x21018fb8f28>"
      ]
     },
     "metadata": {},
     "output_type": "display_data"
    }
   ],
   "source": [
    "X_train_gray = grayscale(X_train)\n",
    "X_test_gray = grayscale(X_test)\n",
    "X_valid_gray = grayscale(X_valid)\n",
    "\n",
    "X_train_norm = normalize_image(X_train_gray)\n",
    "X_test_norm = normalize_image(X_test_gray)\n",
    "X_valid_norm = normalize_image(X_valid_gray)\n",
    "\n",
    "# Print shapes\n",
    "print(\"Shape of X_train\", X_train.shape)\n",
    "print(\"Shape of X_train_gray\", X_train_gray.shape)\n",
    "print(\"Shape of X_train_norm\", X_train_norm.shape)\n",
    "\n",
    "# Print mean\n",
    "print(\"Mean of the gray image training set\", np.mean(X_train_gray))\n",
    "print(\"Mean of the normalized image training set\", np.mean(X_train_norm))\n",
    "print(\"Mean of the gray image testing set\", np.mean(X_test_gray))\n",
    "print(\"Mean of the normalized image testing set\", np.mean(X_test_norm))\n",
    "\n",
    "# print a random image to compare the processed sets to the original\n",
    "fig, axs = plt.subplots(1,3, figsize=(10, 3))\n",
    "axs = axs.ravel()\n",
    "i = random.randint(0,len(X_train) - 1)\n",
    "index = 0\n",
    "axs[index].axis('off')\n",
    "axs[index].set_title('Color')\n",
    "axs[index].imshow(X_train[i])\n",
    "\n",
    "index += 1\n",
    "axs[index].axis('off')\n",
    "axs[index].set_title('Gray')\n",
    "axs[index].imshow(X_train_gray[i].squeeze(), cmap='gray')\n",
    "\n",
    "index += 1\n",
    "axs[index].axis('off')\n",
    "axs[index].set_title('normalized')\n",
    "axs[index].imshow(X_train_norm[i].squeeze(), cmap='gray')"
   ]
  },
  {
   "cell_type": "code",
   "execution_count": 10,
   "metadata": {},
   "outputs": [],
   "source": [
    "# Visualize rgb vs grayscale\n",
    "# view_images(X_train)\n",
    "# view_images(X_train_gray)"
   ]
  },
  {
   "cell_type": "code",
   "execution_count": 11,
   "metadata": {},
   "outputs": [
    {
     "name": "stdout",
     "output_type": "stream",
     "text": [
      "shape in/out: (32, 32, 1) (32, 32, 1)\n"
     ]
    },
    {
     "data": {
      "image/png": "[encoded data removed]",
      "text/plain": [
       "<matplotlib.figure.Figure at 0x21018f576a0>"
      ]
     },
     "metadata": {},
     "output_type": "display_data"
    }
   ],
   "source": [
    "def random_translate(img):\n",
    "    rows,cols,_ = img.shape\n",
    "    \n",
    "    # allow translation up to px pixels in x and y directions\n",
    "    px = 2\n",
    "    dx,dy = np.random.randint(-px,px,2)\n",
    "\n",
    "    M = np.float32([[1,0,dx],[0,1,dy]])\n",
    "    dst = cv2.warpAffine(img,M,(cols,rows))\n",
    "    \n",
    "    dst = dst[:,:,np.newaxis]\n",
    "    \n",
    "    return dst\n",
    "\n",
    "test_img = X_train_norm[22222]\n",
    "\n",
    "test_dst = random_translate(test_img)\n",
    "\n",
    "fig, axs = plt.subplots(1,2, figsize=(10, 3))\n",
    "\n",
    "axs[0].axis('off')\n",
    "axs[0].imshow(test_img.squeeze(), cmap='gray')\n",
    "axs[0].set_title('original')\n",
    "\n",
    "axs[1].axis('off')\n",
    "axs[1].imshow(test_dst.squeeze(), cmap='gray')\n",
    "axs[1].set_title('translated')\n",
    "\n",
    "print('shape in/out:', test_img.shape, test_dst.shape)"
   ]
  },
  {
   "cell_type": "code",
   "execution_count": 12,
   "metadata": {},
   "outputs": [
    {
     "name": "stdout",
     "output_type": "stream",
     "text": [
      "shape in/out: (32, 32, 1) (32, 32, 1)\n"
     ]
    },
    {
     "data": {
      "image/png": "[encoded data removed]",
      "text/plain": [
       "<matplotlib.figure.Figure at 0x21018faa7f0>"
      ]
     },
     "metadata": {},
     "output_type": "display_data"
    }
   ],
   "source": [
    "def random_scaling(img):   \n",
    "    rows,cols,_ = img.shape\n",
    "\n",
    "    # transform limits\n",
    "    px = np.random.randint(-2,2)\n",
    "\n",
    "    # ending locations\n",
    "    pts1 = np.float32([[px,px],[rows-px,px],[px,cols-px],[rows-px,cols-px]])\n",
    "\n",
    "    # starting locations (4 corners)\n",
    "    pts2 = np.float32([[0,0],[rows,0],[0,cols],[rows,cols]])\n",
    "\n",
    "    M = cv2.getPerspectiveTransform(pts1,pts2)\n",
    "\n",
    "    dst = cv2.warpPerspective(img,M,(rows,cols))\n",
    "    \n",
    "    dst = dst[:,:,np.newaxis]\n",
    "    \n",
    "    return dst\n",
    "\n",
    "test_dst = random_scaling(test_img)\n",
    "    \n",
    "fig, axs = plt.subplots(1,2, figsize=(10, 3))\n",
    "\n",
    "axs[0].axis('off')\n",
    "axs[0].imshow(test_img.squeeze(), cmap='gray')\n",
    "axs[0].set_title('original')\n",
    "\n",
    "axs[1].axis('off')\n",
    "axs[1].imshow(test_dst.squeeze(), cmap='gray')\n",
    "axs[1].set_title('scaled')\n",
    "\n",
    "print('shape in/out:', test_img.shape, test_dst.shape)"
   ]
  },
  {
   "cell_type": "code",
   "execution_count": 13,
   "metadata": {},
   "outputs": [
    {
     "name": "stdout",
     "output_type": "stream",
     "text": [
      "shape in/out: (32, 32, 1) (32, 32, 1)\n"
     ]
    },
    {
     "data": {
      "image/png": "[encoded data removed]",
      "text/plain": [
       "<matplotlib.figure.Figure at 0x210190ec2b0>"
      ]
     },
     "metadata": {},
     "output_type": "display_data"
    }
   ],
   "source": [
    "def random_warp(img):\n",
    "    \n",
    "    rows,cols,_ = img.shape\n",
    "\n",
    "    # random scaling coefficients\n",
    "    rndx = np.random.rand(3) - 0.5\n",
    "    rndx *= cols * 0.06   # this coefficient determines the degree of warping\n",
    "    rndy = np.random.rand(3) - 0.5\n",
    "    rndy *= rows * 0.06\n",
    "\n",
    "    # 3 starting points for transform, 1/4 way from edges\n",
    "    x1 = cols/4\n",
    "    x2 = 3*cols/4\n",
    "    y1 = rows/4\n",
    "    y2 = 3*rows/4\n",
    "\n",
    "    pts1 = np.float32([[y1,x1],\n",
    "                       [y2,x1],\n",
    "                       [y1,x2]])\n",
    "    pts2 = np.float32([[y1+rndy[0],x1+rndx[0]],\n",
    "                       [y2+rndy[1],x1+rndx[1]],\n",
    "                       [y1+rndy[2],x2+rndx[2]]])\n",
    "\n",
    "    M = cv2.getAffineTransform(pts1,pts2)\n",
    "\n",
    "    dst = cv2.warpAffine(img,M,(cols,rows))\n",
    "    \n",
    "    dst = dst[:,:,np.newaxis]\n",
    "    \n",
    "    return dst\n",
    "\n",
    "test_dst = random_warp(test_img)\n",
    "\n",
    "fig, axs = plt.subplots(1,2, figsize=(10, 3))\n",
    "\n",
    "axs[0].axis('off')\n",
    "axs[0].imshow(test_img.squeeze(), cmap='gray')\n",
    "axs[0].set_title('original')\n",
    "\n",
    "axs[1].axis('off')\n",
    "axs[1].imshow(test_dst.squeeze(), cmap='gray')\n",
    "axs[1].set_title('warped')\n",
    "\n",
    "print('shape in/out:', test_img.shape, test_dst.shape)"
   ]
  },
  {
   "cell_type": "code",
   "execution_count": 14,
   "metadata": {},
   "outputs": [
    {
     "name": "stdout",
     "output_type": "stream",
     "text": [
      "shape in/out: (32, 32, 1) (32, 32, 1)\n"
     ]
    },
    {
     "data": {
      "image/png": "[encoded data removed]",
      "text/plain": [
       "<matplotlib.figure.Figure at 0x21019115fd0>"
      ]
     },
     "metadata": {},
     "output_type": "display_data"
    }
   ],
   "source": [
    "def random_brightness(img):\n",
    "    shifted = img + 1.0   # shift to (0,2) range\n",
    "    img_max_value = max(shifted.flatten())\n",
    "    max_coef = 2.0/img_max_value\n",
    "    min_coef = max_coef - 0.1\n",
    "    coef = np.random.uniform(min_coef, max_coef)\n",
    "    dst = shifted * coef - 1.0\n",
    "    return dst\n",
    "\n",
    "test_dst = random_brightness(test_img)\n",
    "\n",
    "fig, axs = plt.subplots(1,2, figsize=(10, 3))\n",
    "\n",
    "axs[0].axis('off')\n",
    "axs[0].imshow(test_img.squeeze(), cmap='gray')\n",
    "axs[0].set_title('original')\n",
    "\n",
    "axs[1].axis('off')\n",
    "axs[1].imshow(test_dst.squeeze(), cmap='gray')\n",
    "axs[1].set_title('brightness adjusted')\n",
    "\n",
    "print('shape in/out:', test_img.shape, test_dst.shape)"
   ]
  },
  {
   "cell_type": "code",
   "execution_count": 15,
   "metadata": {},
   "outputs": [
    {
     "name": "stdout",
     "output_type": "stream",
     "text": [
      "[ 180 1980 2010 1260 1770 1650  360 1290 1260 1320 1800 1170 1890 1920  690\n",
      "  540  360  990 1080  180  300  270  330  450  240 1350  540  210  480  240\n",
      "  390  690  210  599  360 1080  330  180 1860  270  300  210  210]\n",
      "809.279069767\n",
      "class_indices:  [ 1  7 17 20 21 22 23 24 25 28 29 30 31 33 35 37 38 40 41 42 43]\n",
      "21\n",
      "\n",
      "Augmenting...\n",
      "\n",
      "0 : |----|----|----|----|----|----|----|----|----|----|----|----|-\n",
      "1 : \n",
      "2 : \n",
      "3 : \n",
      "4 : \n",
      "5 : \n",
      "6 : |----|----|----|----|----|----|----|----|---\n",
      "7 : \n",
      "8 : \n",
      "9 : \n",
      "10 : \n",
      "11 : \n",
      "12 : \n",
      "13 : \n",
      "14 : |----|----|\n",
      "15 : |----|----|----|----|----|\n",
      "16 : |----|----|----|----|----|----|----|----|---\n",
      "17 : \n",
      "18 : \n",
      "19 : |----|----|----|----|----|----|----|----|----|----|----|----|-\n",
      "20 : |----|----|----|----|----|----|----|----|----|----\n",
      "21 : |----|----|----|----|----|----|----|----|----|----|--\n",
      "22 : |----|----|----|----|----|----|----|----|----|-\n",
      "23 : |----|----|----|----|----|----|----\n",
      "24 : |----|----|----|----|----|----|----|----|----|----|----|\n",
      "25 : \n",
      "26 : |----|----|----|----|----|\n",
      "27 : |----|----|----|----|----|----|----|----|----|----|----|---\n",
      "28 : |----|----|----|----|----|----|-\n",
      "29 : |----|----|----|----|----|----|----|----|----|----|----|\n",
      "30 : |----|----|----|----|----|----|----|----|\n",
      "31 : |----|----|\n",
      "32 : |----|----|----|----|----|----|----|----|----|----|----|---\n",
      "33 : |----|----|----|----|\n",
      "34 : |----|----|----|----|----|----|----|----|---\n",
      "35 : \n",
      "36 : |----|----|----|----|----|----|----|----|----|-\n",
      "37 : |----|----|----|----|----|----|----|----|----|----|----|----|-\n",
      "38 : \n",
      "39 : |----|----|----|----|----|----|----|----|----|----|--\n",
      "40 : |----|----|----|----|----|----|----|----|----|----\n",
      "41 : |----|----|----|----|----|----|----|----|----|----|----|---\n",
      "42 : |----|----|----|----|----|----|----|----|----|----|----|---\n"
     ]
    }
   ],
   "source": [
    "\n",
    "bincount = np.bincount(y_train)\n",
    "print(bincount)\n",
    "print(np.mean(bincount))\n",
    "threshold = 500\n",
    "class_indices = np.array(np.where(bincount < threshold))\n",
    "class_indices = class_indices[0]\n",
    "class_indices = class_indices + 1 \n",
    "print('class_indices: ', class_indices)\n",
    "print(len(class_indices))\n",
    "print()\n",
    "print('Augmenting...')\n",
    "print()\n",
    "\n",
    "input_indices = []\n",
    "output_indices = []\n",
    "\n",
    "for class_n in range(n_classes):\n",
    "    print(class_n, ': ', end='')\n",
    "    class_indices = np.where(y_train == class_n)\n",
    "    n_samples = len(class_indices[0])\n",
    "    if n_samples < 800:\n",
    "        for i in range(800 - n_samples):\n",
    "            input_indices.append(class_indices[0][i%n_samples])\n",
    "            output_indices.append(X_train_norm.shape[0])\n",
    "            new_img = X_train_norm[class_indices[0][i % n_samples]]\n",
    "            new_img = random_translate(random_scaling(random_warp(random_brightness(new_img))))\n",
    "            X_train_norm = np.concatenate((X_train_norm, [new_img]), axis=0)\n",
    "            y_train = np.concatenate((y_train, [class_n]), axis=0)\n",
    "            if i % 50 == 0:\n",
    "                print('|', end='')\n",
    "            elif i % 10 == 0:\n",
    "                print('-',end='')\n",
    "    print('')\n",
    "    \n",
    "    "
   ]
  },
  {
   "cell_type": "markdown",
   "metadata": {},
   "source": [
    "### Model Architecture"
   ]
  },
  {
   "cell_type": "code",
   "execution_count": 16,
   "metadata": {},
   "outputs": [],
   "source": [
    "### Define your architecture here.\n",
    "### Feel free to use as many code cells as needed.\n",
    "\n",
    "import tensorflow as tf\n",
    "EPOCHS = 70\n",
    "BATCH_SIZE = 200\n"
   ]
  },
  {
   "cell_type": "markdown",
   "metadata": {},
   "source": [
    "# LeNet Model"
   ]
  },
  {
   "cell_type": "code",
   "execution_count": 17,
   "metadata": {},
   "outputs": [],
   "source": [
    "from tensorflow.contrib.layers import flatten\n",
    "\n",
    "def LeNet(x):    \n",
    "# Hyperparameters\n",
    "    mu = 0\n",
    "    sigma = 0.1\n",
    "    \n",
    "    # TODO: Layer 1: Convolutional. Input = 32x32x1. Output = 28x28x6.\n",
    "    W1 = tf.Variable(tf.truncated_normal(shape=(5, 5, 1, 6), mean = mu, stddev = sigma), name=\"W1\")\n",
    "    x = tf.nn.conv2d(x, W1, strides=[1, 1, 1, 1], padding='VALID')\n",
    "    b1 = tf.Variable(tf.zeros(6), name=\"b1\")\n",
    "    x = tf.nn.bias_add(x, b1)\n",
    "    print(\"layer 1 shape:\",x.get_shape())\n",
    "\n",
    "    # TODO: Activation.\n",
    "    x = tf.nn.relu(x)\n",
    "    \n",
    "    # TODO: Pooling. Input = 28x28x6. Output = 14x14x6.\n",
    "    x = tf.nn.max_pool(x, ksize=[1, 2, 2, 1], strides=[1, 2, 2, 1], padding='VALID')\n",
    "    layer1 = x\n",
    "    \n",
    "    # TODO: Layer 2: Convolutional. Output = 10x10x16.\n",
    "    W2 = tf.Variable(tf.truncated_normal(shape=(5, 5, 6, 16), mean = mu, stddev = sigma), name=\"W2\")\n",
    "    x = tf.nn.conv2d(x, W2, strides=[1, 1, 1, 1], padding='VALID')\n",
    "    b2 = tf.Variable(tf.zeros(16), name=\"b2\")\n",
    "    x = tf.nn.bias_add(x, b2)\n",
    "                     \n",
    "    # TODO: Activation.\n",
    "    x = tf.nn.relu(x)\n",
    "\n",
    "    # TODO: Pooling. Input = 10x10x16. Output = 5x5x16.\n",
    "    x = tf.nn.max_pool(x, ksize=[1, 2, 2, 1], strides=[1, 2, 2, 1], padding='VALID')\n",
    "    layer2 = x\n",
    "    \n",
    "    # TODO: Layer 3: Convolutional. Output = 1x1x400.\n",
    "    W3 = tf.Variable(tf.truncated_normal(shape=(5, 5, 16, 400), mean = mu, stddev = sigma), name=\"W3\")\n",
    "    x = tf.nn.conv2d(x, W3, strides=[1, 1, 1, 1], padding='VALID')\n",
    "    b3 = tf.Variable(tf.zeros(400), name=\"b3\")\n",
    "    x = tf.nn.bias_add(x, b3)\n",
    "                     \n",
    "    # TODO: Activation.\n",
    "    x = tf.nn.relu(x)\n",
    "    layer3 = x\n",
    "\n",
    "    # TODO: Flatten. Input = 5x5x16. Output = 400.\n",
    "    layer2flat = flatten(layer2)\n",
    "    print(\"layer2flat shape:\",layer2flat.get_shape())\n",
    "    \n",
    "    # Flatten x. Input = 1x1x400. Output = 400.\n",
    "    xflat = flatten(x)\n",
    "    print(\"xflat shape:\",xflat.get_shape())\n",
    "    \n",
    "    # Concat layer2flat and x. Input = 400 + 400. Output = 800\n",
    "    x = tf.concat([xflat, layer2flat], 1)\n",
    "    print(\"x shape:\",x.get_shape())\n",
    "    \n",
    "    # Dropout\n",
    "    x = tf.nn.dropout(x, keep_prob)\n",
    "    \n",
    "    # TODO: Layer 4: Fully Connected. Input = 800. Output = 43.\n",
    "    W4 = tf.Variable(tf.truncated_normal(shape=(800, 43), mean = mu, stddev = sigma), name=\"W4\")\n",
    "    b4 = tf.Variable(tf.zeros(43), name=\"b4\")    \n",
    "    logits = tf.add(tf.matmul(x, W4), b4)\n",
    "    \n",
    "    # TODO: Activation.\n",
    "    #x = tf.nn.relu(x)\n",
    "\n",
    "    # TODO: Layer 5: Fully Connected. Input = 120. Output = 84.\n",
    "    #W5 = tf.Variable(tf.truncated_normal(shape=(120, 84), mean = mu, stddev = sigma))\n",
    "    #b5 = tf.Variable(tf.zeros(84)) \n",
    "    #x = tf.add(tf.matmul(x, W5), b5)\n",
    "    \n",
    "    # TODO: Activation.\n",
    "    #x = tf.nn.relu(x)\n",
    "\n",
    "    # TODO: Layer 6: Fully Connected. Input = 84. Output = 43.\n",
    "    #W6 = tf.Variable(tf.truncated_normal(shape=(84, 43), mean = mu, stddev = sigma))\n",
    "    #b6 = tf.Variable(tf.zeros(43)) \n",
    "    #logits = tf.add(tf.matmul(x, W6), b6)\n",
    "    \n",
    "    return logits"
   ]
  },
  {
   "cell_type": "markdown",
   "metadata": {},
   "source": [
    "### Train, Validate and Test the Model"
   ]
  },
  {
   "cell_type": "markdown",
   "metadata": {},
   "source": [
    "A validation set can be used to assess how well the model is performing. A low accuracy on the training and validation\n",
    "sets imply underfitting. A high accuracy on the training set but low accuracy on the validation set implies overfitting."
   ]
  },
  {
   "cell_type": "code",
   "execution_count": 18,
   "metadata": {},
   "outputs": [],
   "source": [
    "### Train your model here.\n",
    "### Calculate and report the accuracy on the training and validation set.\n",
    "### Once a final model architecture is selected, \n",
    "### the accuracy on the test set should be calculated and reported as well.\n",
    "### Feel free to use as many code cells as needed.\n",
    "\n",
    "tf.reset_default_graph()\n",
    "\n",
    "x = tf.placeholder(tf.float32, (None, 32, 32, 1))\n",
    "y = tf.placeholder(tf.int32, (None))\n",
    "keep_prob = tf.placeholder(tf.float32)\n",
    "one_hot_y = tf.one_hot(y, 43)"
   ]
  },
  {
   "cell_type": "code",
   "execution_count": 19,
   "metadata": {},
   "outputs": [
    {
     "name": "stdout",
     "output_type": "stream",
     "text": [
      "layer 1 shape: (?, 28, 28, 6)\n",
      "layer2flat shape: (?, 400)\n",
      "xflat shape: (?, 400)\n",
      "x shape: (?, 800)\n"
     ]
    }
   ],
   "source": [
    "\n",
    "rate = 0.0001\n",
    "\n",
    "logits = LeNet(x)\n",
    "cross_entropy = tf.nn.softmax_cross_entropy_with_logits(labels=one_hot_y, logits=logits)\n",
    "loss_operation = tf.reduce_mean(cross_entropy)\n",
    "optimizer = tf.train.AdamOptimizer(learning_rate = rate)\n",
    "training_operation = optimizer.minimize(loss_operation)"
   ]
  },
  {
   "cell_type": "markdown",
   "metadata": {},
   "source": [
    "### Model Evaluation\n",
    "Evaluate how well the loss and accuracy of the model for a given dataset.\n"
   ]
  },
  {
   "cell_type": "code",
   "execution_count": 20,
   "metadata": {},
   "outputs": [],
   "source": [
    "correct_prediction = tf.equal(tf.argmax(logits, 1), tf.argmax(one_hot_y, 1))\n",
    "accuracy_operation = tf.reduce_mean(tf.cast(correct_prediction, tf.float32))\n",
    "saver = tf.train.Saver()\n",
    "\n",
    "def evaluate(X_data, y_data):\n",
    "    num_examples = len(X_data)\n",
    "    total_accuracy = 0\n",
    "    total_loss = 0\n",
    "    sess = tf.get_default_session()\n",
    "    for offset in range(0, num_examples, BATCH_SIZE):\n",
    "        batch_x, batch_y = X_data[offset:offset+BATCH_SIZE], y_data[offset:offset+BATCH_SIZE]\n",
    "        loss, accuracy = sess.run([loss_operation, accuracy_operation], feed_dict={x: batch_x, y: batch_y, keep_prob: 1.0})\n",
    "        total_accuracy += (accuracy * len(batch_x))\n",
    "        total_loss += (loss  * len(batch_x))\n",
    "    return total_loss/num_examples, total_accuracy/num_examples\n"
   ]
  },
  {
   "cell_type": "markdown",
   "metadata": {},
   "source": [
    "### Train the Model\n",
    "Run the training data through the training pipeline to train the model.\n",
    "\n",
    "Before each epoch, shuffle the training set.\n",
    "\n",
    "After each epoch, measure the loss and accuracy of the validation set.\n",
    "\n",
    "Save the model after training."
   ]
  },
  {
   "cell_type": "code",
   "execution_count": 21,
   "metadata": {},
   "outputs": [],
   "source": [
    "'''#Using just the gray image\n",
    "X_train = X_train_gray\n",
    "X_test = X_test_gray\n",
    "X_valid = X_valid_gray'''\n",
    "\n",
    "#Using the processed image\n",
    "X_train = X_train_norm\n",
    "X_test = X_test_norm\n",
    "X_valid = X_valid_norm"
   ]
  },
  {
   "cell_type": "code",
   "execution_count": 22,
   "metadata": {
    "scrolled": true
   },
   "outputs": [
    {
     "name": "stdout",
     "output_type": "stream",
     "text": [
      "Training...\n",
      "\n",
      "EPOCH 1: Train Accuracy = 0.247 -- Valid Accuracy = 0.245 -- Train Loss = 3.023 -- Valid Loss = 3.039\n",
      "EPOCH 2: Train Accuracy = 0.496 -- Valid Accuracy = 0.456 -- Train Loss = 2.082 -- Valid Loss = 2.187\n",
      "EPOCH 3: Train Accuracy = 0.619 -- Valid Accuracy = 0.563 -- Train Loss = 1.550 -- Valid Loss = 1.662\n",
      "EPOCH 4: Train Accuracy = 0.719 -- Valid Accuracy = 0.665 -- Train Loss = 1.212 -- Valid Loss = 1.345\n",
      "EPOCH 5: Train Accuracy = 0.777 -- Valid Accuracy = 0.727 -- Train Loss = 0.990 -- Valid Loss = 1.133\n",
      "EPOCH 6: Train Accuracy = 0.818 -- Valid Accuracy = 0.766 -- Train Loss = 0.825 -- Valid Loss = 0.986\n",
      "EPOCH 7: Train Accuracy = 0.849 -- Valid Accuracy = 0.792 -- Train Loss = 0.706 -- Valid Loss = 0.868\n",
      "EPOCH 8: Train Accuracy = 0.865 -- Valid Accuracy = 0.800 -- Train Loss = 0.613 -- Valid Loss = 0.781\n",
      "EPOCH 9: Train Accuracy = 0.887 -- Valid Accuracy = 0.822 -- Train Loss = 0.535 -- Valid Loss = 0.708\n",
      "EPOCH 10: Train Accuracy = 0.899 -- Valid Accuracy = 0.833 -- Train Loss = 0.477 -- Valid Loss = 0.655\n",
      "EPOCH 11: Train Accuracy = 0.909 -- Valid Accuracy = 0.843 -- Train Loss = 0.426 -- Valid Loss = 0.607\n",
      "EPOCH 12: Train Accuracy = 0.919 -- Valid Accuracy = 0.852 -- Train Loss = 0.383 -- Valid Loss = 0.565\n",
      "EPOCH 13: Train Accuracy = 0.926 -- Valid Accuracy = 0.868 -- Train Loss = 0.349 -- Valid Loss = 0.530\n",
      "EPOCH 14: Train Accuracy = 0.933 -- Valid Accuracy = 0.876 -- Train Loss = 0.318 -- Valid Loss = 0.500\n",
      "EPOCH 15: Train Accuracy = 0.940 -- Valid Accuracy = 0.883 -- Train Loss = 0.293 -- Valid Loss = 0.476\n",
      "EPOCH 16: Train Accuracy = 0.944 -- Valid Accuracy = 0.884 -- Train Loss = 0.269 -- Valid Loss = 0.461\n",
      "EPOCH 17: Train Accuracy = 0.949 -- Valid Accuracy = 0.890 -- Train Loss = 0.249 -- Valid Loss = 0.441\n",
      "EPOCH 18: Train Accuracy = 0.952 -- Valid Accuracy = 0.889 -- Train Loss = 0.231 -- Valid Loss = 0.428\n",
      "EPOCH 19: Train Accuracy = 0.956 -- Valid Accuracy = 0.893 -- Train Loss = 0.215 -- Valid Loss = 0.414\n",
      "EPOCH 20: Train Accuracy = 0.958 -- Valid Accuracy = 0.898 -- Train Loss = 0.200 -- Valid Loss = 0.398\n",
      "EPOCH 21: Train Accuracy = 0.961 -- Valid Accuracy = 0.902 -- Train Loss = 0.189 -- Valid Loss = 0.388\n",
      "EPOCH 22: Train Accuracy = 0.964 -- Valid Accuracy = 0.902 -- Train Loss = 0.176 -- Valid Loss = 0.382\n",
      "EPOCH 23: Train Accuracy = 0.967 -- Valid Accuracy = 0.906 -- Train Loss = 0.166 -- Valid Loss = 0.374\n",
      "EPOCH 24: Train Accuracy = 0.967 -- Valid Accuracy = 0.905 -- Train Loss = 0.155 -- Valid Loss = 0.367\n",
      "EPOCH 25: Train Accuracy = 0.971 -- Valid Accuracy = 0.908 -- Train Loss = 0.148 -- Valid Loss = 0.359\n",
      "EPOCH 26: Train Accuracy = 0.973 -- Valid Accuracy = 0.909 -- Train Loss = 0.139 -- Valid Loss = 0.354\n",
      "EPOCH 27: Train Accuracy = 0.972 -- Valid Accuracy = 0.910 -- Train Loss = 0.132 -- Valid Loss = 0.343\n",
      "EPOCH 28: Train Accuracy = 0.975 -- Valid Accuracy = 0.911 -- Train Loss = 0.124 -- Valid Loss = 0.347\n",
      "EPOCH 29: Train Accuracy = 0.977 -- Valid Accuracy = 0.915 -- Train Loss = 0.118 -- Valid Loss = 0.333\n",
      "EPOCH 30: Train Accuracy = 0.978 -- Valid Accuracy = 0.915 -- Train Loss = 0.110 -- Valid Loss = 0.328\n",
      "EPOCH 31: Train Accuracy = 0.979 -- Valid Accuracy = 0.917 -- Train Loss = 0.106 -- Valid Loss = 0.326\n",
      "EPOCH 32: Train Accuracy = 0.980 -- Valid Accuracy = 0.923 -- Train Loss = 0.100 -- Valid Loss = 0.314\n",
      "EPOCH 33: Train Accuracy = 0.982 -- Valid Accuracy = 0.918 -- Train Loss = 0.095 -- Valid Loss = 0.321\n",
      "EPOCH 34: Train Accuracy = 0.982 -- Valid Accuracy = 0.920 -- Train Loss = 0.091 -- Valid Loss = 0.306\n",
      "EPOCH 35: Train Accuracy = 0.983 -- Valid Accuracy = 0.923 -- Train Loss = 0.086 -- Valid Loss = 0.308\n",
      "EPOCH 36: Train Accuracy = 0.984 -- Valid Accuracy = 0.918 -- Train Loss = 0.083 -- Valid Loss = 0.316\n",
      "EPOCH 37: Train Accuracy = 0.985 -- Valid Accuracy = 0.921 -- Train Loss = 0.079 -- Valid Loss = 0.309\n",
      "EPOCH 38: Train Accuracy = 0.986 -- Valid Accuracy = 0.923 -- Train Loss = 0.075 -- Valid Loss = 0.307\n",
      "EPOCH 39: Train Accuracy = 0.986 -- Valid Accuracy = 0.924 -- Train Loss = 0.072 -- Valid Loss = 0.301\n",
      "EPOCH 40: Train Accuracy = 0.987 -- Valid Accuracy = 0.927 -- Train Loss = 0.068 -- Valid Loss = 0.293\n",
      "EPOCH 41: Train Accuracy = 0.988 -- Valid Accuracy = 0.926 -- Train Loss = 0.066 -- Valid Loss = 0.294\n",
      "EPOCH 42: Train Accuracy = 0.988 -- Valid Accuracy = 0.927 -- Train Loss = 0.063 -- Valid Loss = 0.288\n",
      "EPOCH 43: Train Accuracy = 0.989 -- Valid Accuracy = 0.925 -- Train Loss = 0.060 -- Valid Loss = 0.294\n",
      "EPOCH 44: Train Accuracy = 0.989 -- Valid Accuracy = 0.924 -- Train Loss = 0.058 -- Valid Loss = 0.296\n",
      "EPOCH 45: Train Accuracy = 0.990 -- Valid Accuracy = 0.929 -- Train Loss = 0.055 -- Valid Loss = 0.281\n",
      "EPOCH 46: Train Accuracy = 0.990 -- Valid Accuracy = 0.927 -- Train Loss = 0.052 -- Valid Loss = 0.279\n",
      "EPOCH 47: Train Accuracy = 0.991 -- Valid Accuracy = 0.929 -- Train Loss = 0.051 -- Valid Loss = 0.279\n",
      "EPOCH 48: Train Accuracy = 0.992 -- Valid Accuracy = 0.928 -- Train Loss = 0.048 -- Valid Loss = 0.279\n",
      "EPOCH 49: Train Accuracy = 0.992 -- Valid Accuracy = 0.930 -- Train Loss = 0.046 -- Valid Loss = 0.282\n",
      "EPOCH 50: Train Accuracy = 0.991 -- Valid Accuracy = 0.931 -- Train Loss = 0.045 -- Valid Loss = 0.278\n",
      "EPOCH 51: Train Accuracy = 0.992 -- Valid Accuracy = 0.928 -- Train Loss = 0.043 -- Valid Loss = 0.282\n",
      "EPOCH 52: Train Accuracy = 0.993 -- Valid Accuracy = 0.927 -- Train Loss = 0.044 -- Valid Loss = 0.279\n",
      "EPOCH 53: Train Accuracy = 0.993 -- Valid Accuracy = 0.936 -- Train Loss = 0.040 -- Valid Loss = 0.267\n",
      "EPOCH 54: Train Accuracy = 0.994 -- Valid Accuracy = 0.931 -- Train Loss = 0.038 -- Valid Loss = 0.266\n",
      "EPOCH 55: Train Accuracy = 0.994 -- Valid Accuracy = 0.930 -- Train Loss = 0.037 -- Valid Loss = 0.280\n",
      "EPOCH 56: Train Accuracy = 0.994 -- Valid Accuracy = 0.931 -- Train Loss = 0.035 -- Valid Loss = 0.266\n",
      "EPOCH 57: Train Accuracy = 0.995 -- Valid Accuracy = 0.929 -- Train Loss = 0.034 -- Valid Loss = 0.275\n",
      "EPOCH 58: Train Accuracy = 0.995 -- Valid Accuracy = 0.932 -- Train Loss = 0.033 -- Valid Loss = 0.270\n",
      "EPOCH 59: Train Accuracy = 0.995 -- Valid Accuracy = 0.934 -- Train Loss = 0.031 -- Valid Loss = 0.273\n",
      "EPOCH 60: Train Accuracy = 0.995 -- Valid Accuracy = 0.935 -- Train Loss = 0.030 -- Valid Loss = 0.260\n",
      "EPOCH 61: Train Accuracy = 0.995 -- Valid Accuracy = 0.933 -- Train Loss = 0.029 -- Valid Loss = 0.267\n",
      "EPOCH 62: Train Accuracy = 0.996 -- Valid Accuracy = 0.936 -- Train Loss = 0.028 -- Valid Loss = 0.268\n",
      "EPOCH 63: Train Accuracy = 0.996 -- Valid Accuracy = 0.937 -- Train Loss = 0.028 -- Valid Loss = 0.268\n",
      "EPOCH 64: Train Accuracy = 0.996 -- Valid Accuracy = 0.935 -- Train Loss = 0.026 -- Valid Loss = 0.264\n",
      "EPOCH 65: Train Accuracy = 0.996 -- Valid Accuracy = 0.933 -- Train Loss = 0.025 -- Valid Loss = 0.265\n",
      "EPOCH 66: Train Accuracy = 0.996 -- Valid Accuracy = 0.935 -- Train Loss = 0.024 -- Valid Loss = 0.268\n",
      "EPOCH 67: Train Accuracy = 0.996 -- Valid Accuracy = 0.939 -- Train Loss = 0.023 -- Valid Loss = 0.256\n",
      "EPOCH 68: Train Accuracy = 0.997 -- Valid Accuracy = 0.939 -- Train Loss = 0.022 -- Valid Loss = 0.262\n",
      "EPOCH 69: Train Accuracy = 0.997 -- Valid Accuracy = 0.937 -- Train Loss = 0.021 -- Valid Loss = 0.268\n",
      "EPOCH 70: Train Accuracy = 0.997 -- Valid Accuracy = 0.937 -- Train Loss = 0.020 -- Valid Loss = 0.261\n",
      "Model saved\n",
      "\n"
     ]
    },
    {
     "data": {
      "text/plain": [
       "<matplotlib.legend.Legend at 0x2102bd10c18>"
      ]
     },
     "execution_count": 22,
     "metadata": {},
     "output_type": "execute_result"
    },
    {
     "data": {
      "image/png": "[encoded data removed]",
      "text/plain": [
       "<matplotlib.figure.Figure at 0x21073238e10>"
      ]
     },
     "metadata": {},
     "output_type": "display_data"
    }
   ],
   "source": [
    "train_loss_history = []\n",
    "valid_loss_history = []\n",
    "train_accuracy_history = []\n",
    "valid_accuracy_history = []\n",
    "\n",
    "with tf.Session() as sess:\n",
    "    sess.run(tf.global_variables_initializer())\n",
    "    num_examples = len(X_train)\n",
    "    \n",
    "    print(\"Training...\")\n",
    "    print()\n",
    "    for i in range(EPOCHS):\n",
    "        X_train, y_train = shuffle(X_train, y_train)\n",
    "        for offset in range(0, num_examples, BATCH_SIZE):\n",
    "            end = offset + BATCH_SIZE\n",
    "            batch_x, batch_y = X_train[offset:end], y_train[offset:end]\n",
    "            sess.run(training_operation, feed_dict={x: batch_x, y: batch_y, keep_prob: 0.50})\n",
    "            \n",
    "        validation_loss, validation_accuracy = evaluate(X_valid, y_valid)\n",
    "        valid_loss_history.append(validation_loss)\n",
    "        valid_accuracy_history.append(validation_accuracy)\n",
    "        train_loss, train_accuracy = evaluate(X_train, y_train)\n",
    "        train_loss_history.append(train_loss)\n",
    "        train_accuracy_history.append(train_accuracy)\n",
    "        print(\"EPOCH {}: Train Accuracy = {:.3f} -- Valid Accuracy = {:.3f} -- Train Loss = {:.3f} -- Valid Loss = {:.3f}\"\n",
    "              .format(i+1,train_accuracy,validation_accuracy,train_loss,validation_loss))\n",
    "        \n",
    "    saver.save(sess, './lenet')\n",
    "    print(\"Model saved\")\n",
    "    \n",
    "loss_plot = plt.subplot(2, 1, 1)\n",
    "loss_plot.set_title('Loss')\n",
    "loss_plot.plot(train_accuracy_history, 'r', label='Training Accuracy')\n",
    "loss_plot.plot(valid_accuracy_history, 'b', label='Validation Accuracy')\n",
    "loss_plot.set_xlim([0, EPOCHS])\n",
    "loss_plot.legend(loc=4)\n",
    "\n",
    "print(\"\")\n",
    "\n",
    "Accuracy_plot = plt.subplot(2, 1, 2)\n",
    "Accuracy_plot.set_title('Accuracy')\n",
    "Accuracy_plot.plot(train_loss_history, 'r', label='Training Loss')\n",
    "Accuracy_plot.plot(valid_loss_history, 'b', label='Validation Loss')\n",
    "Accuracy_plot.set_xlim([0, EPOCHS])\n",
    "Accuracy_plot.legend(loc=4)"
   ]
  },
  {
   "attachments": {
    "image.png": {
     "image/png": "[encoded data removed]"
    }
   },
   "cell_type": "markdown",
   "metadata": {},
   "source": [
    "# log\n",
    "* 12/Nov/2017 #1 - 88.8%\n",
    "    * GT 650M GPU Laptop\n",
    "    * Grayscale using cv2 and normalization [0 1] using [this](https://goo.gl/evAPzf)\n",
    "    * Original LeNet5 model (adjusted for 43 outputs)\n",
    "    * epochs = 15, Batch size = 100, rate = 0.0005\n",
    "    \n",
    "* 12/Nov/2017 #2 - 87.8%\n",
    "    * GT 650M GPU Laptop\n",
    "    * Grayscale by averaging and normalization using `(pixel - 128)/ 128)`\n",
    "    * Original LeNet5 model (adjusted for 43 outputs)\n",
    "    *epochs = 10, Batch size = 128, rate = 0.0005\n",
    "    \n",
    "* 12/Nov/2017 #3 - 92%\n",
    "    * GT 650M GPU Laptop\n",
    "    * Grayscale by averaging and normalization using `(pixel - 128)/ 128)`\n",
    "    * Original LeNet5 model (adjusted for 43 outputs)\n",
    "    *epochs = 10, Batch size = 128, rate = 0.001, keep_prob = 0.5\n",
    "\n",
    "* 12/Nov/2017 #4 - %92.4\n",
    "    * GT 650M GPU Laptop\n",
    "    * Grayscale using cv2 and normalization using [this](https://goo.gl/evAPzf)\n",
    "    * Original LeNet5 model (adjusted for 43 outputs)\n",
    "    *epochs = 20, Batch size = 100, rate = 0.0005, keep_prob = 0.55\n",
    "    \n",
    "* 12/Nov/2017 #5 - %92.5\n",
    "    * GT 650M GPU Laptop\n",
    "    * Grayscale using cv2 and normalization using [this](https://goo.gl/evAPzf)\n",
    "    * Original LeNet5 model (adjusted for 43 outputs)\n",
    "    *epochs = 30, Batch size = 200, rate = 0.0005, keep_prob = 0.55\n",
    "\n",
    "* 12/Nov/2017 #6 - %92.7\n",
    "    * GT 650M GPU Laptop\n",
    "    * Grayscale using cv2 and normalization using [this](https://goo.gl/evAPzf)\n",
    "    * Original LeNet5 model (adjusted for 43 outputs)\n",
    "    *epochs = 30, Batch size = 200, rate = 0.0008, keep_prob = 0.45\n",
    "    \n",
    "* 12/Nov/2017 #7 - %78.8\n",
    "    * GT 650M GPU Laptop\n",
    "    * Converted normalization parameters into decimals\n",
    "    * Original LeNet5 model (adjusted for 43 outputs)\n",
    "    *epochs = 30, Batch size = 200, rate = 0.0001, keep_prob = 0.45\n",
    "    \n",
    "* 12/Nov/2017 #8 - %37.5\n",
    "    * GT 650M GPU Laptop\n",
    "    * Converted normalization parameters [-1 1]\n",
    "    * Original LeNet5 model (adjusted for 43 outputs)\n",
    "    *epochs = 15, Batch size = 150, rate = 0.0001, keep_prob = 0.50\n",
    "    \n",
    "* 12/Nov/2017 #9 - %69.7\n",
    "    * GT 650M GPU Laptop\n",
    "    * Grayscale using cv2 and normalization using `(pixel - 128.0)/ 128.0)`\n",
    "    * Original LeNet5 model (adjusted for 43 outputs)\n",
    "    *epochs = 15, Batch size = 200, rate = 0.0001, keep_prob = 0.50![image.png](attachment:image.png)\n",
    "    "
   ]
  },
  {
   "cell_type": "code",
   "execution_count": 23,
   "metadata": {},
   "outputs": [
    {
     "data": {
      "image/png": "[encoded data removed]",
      "text/plain": [
       "<matplotlib.figure.Figure at 0x2107312c128>"
      ]
     },
     "metadata": {},
     "output_type": "display_data"
    }
   ],
   "source": [
    "# Class distrubtion of the training set\n",
    "Distribution, bins = np.histogram(y_train, bins = n_classes)\n",
    "plt.hist(y_train,n_classes)\n",
    "plt.axis([0,n_classes-1,0,2500])\n",
    "plt.xlabel(\"Classes\")\n",
    "plt.ylabel(\"Occurrences\")\n",
    "plt.show()"
   ]
  },
  {
   "cell_type": "markdown",
   "metadata": {},
   "source": [
    "---\n",
    "\n",
    "## Step 3: Test a Model on New Images\n",
    "\n",
    "To give yourself more insight into how your model is working, download at least five pictures of German traffic signs from the web and use your model to predict the traffic sign type.\n",
    "\n",
    "You may find `signnames.csv` useful as it contains mappings from the class id (integer) to the actual sign name."
   ]
  },
  {
   "cell_type": "markdown",
   "metadata": {},
   "source": [
    "### Load and Output the Images"
   ]
  },
  {
   "cell_type": "code",
   "execution_count": null,
   "metadata": {},
   "outputs": [],
   "source": [
    "### Load the images and plot them here.\n",
    "### Feel free to use as many code cells as needed."
   ]
  },
  {
   "cell_type": "markdown",
   "metadata": {},
   "source": [
    "### Predict the Sign Type for Each Image"
   ]
  },
  {
   "cell_type": "code",
   "execution_count": null,
   "metadata": {},
   "outputs": [],
   "source": [
    "### Run the predictions here and use the model to output the prediction for each image.\n",
    "### Make sure to pre-process the images with the same pre-processing pipeline used earlier.\n",
    "### Feel free to use as many code cells as needed."
   ]
  },
  {
   "cell_type": "markdown",
   "metadata": {},
   "source": [
    "### Analyze Performance"
   ]
  },
  {
   "cell_type": "code",
   "execution_count": null,
   "metadata": {},
   "outputs": [],
   "source": [
    "### Calculate the accuracy for these 5 new images. \n",
    "### For example, if the model predicted 1 out of 5 signs correctly, it's 20% accurate on these new images."
   ]
  },
  {
   "cell_type": "markdown",
   "metadata": {},
   "source": [
    "### Output Top 5 Softmax Probabilities For Each Image Found on the Web"
   ]
  },
  {
   "cell_type": "markdown",
   "metadata": {},
   "source": [
    "For each of the new images, print out the model's softmax probabilities to show the **certainty** of the model's predictions (limit the output to the top 5 probabilities for each image). [`tf.nn.top_k`](https://www.tensorflow.org/versions/r0.12/api_docs/python/nn.html#top_k) could prove helpful here. \n",
    "\n",
    "The example below demonstrates how tf.nn.top_k can be used to find the top k predictions for each image.\n",
    "\n",
    "`tf.nn.top_k` will return the values and indices (class ids) of the top k predictions. So if k=3, for each sign, it'll return the 3 largest probabilities (out of a possible 43) and the correspoding class ids.\n",
    "\n",
    "Take this numpy array as an example. The values in the array represent predictions. The array contains softmax probabilities for five candidate images with six possible classes. `tf.nn.top_k` is used to choose the three classes with the highest probability:\n",
    "\n",
    "```\n",
    "# (5, 6) array\n",
    "a = np.array([[ 0.24879643,  0.07032244,  0.12641572,  0.34763842,  0.07893497,\n",
    "         0.12789202],\n",
    "       [ 0.28086119,  0.27569815,  0.08594638,  0.0178669 ,  0.18063401,\n",
    "         0.15899337],\n",
    "       [ 0.26076848,  0.23664738,  0.08020603,  0.07001922,  0.1134371 ,\n",
    "         0.23892179],\n",
    "       [ 0.11943333,  0.29198961,  0.02605103,  0.26234032,  0.1351348 ,\n",
    "         0.16505091],\n",
    "       [ 0.09561176,  0.34396535,  0.0643941 ,  0.16240774,  0.24206137,\n",
    "         0.09155967]])\n",
    "```\n",
    "\n",
    "Running it through `sess.run(tf.nn.top_k(tf.constant(a), k=3))` produces:\n",
    "\n",
    "```\n",
    "TopKV2(values=array([[ 0.34763842,  0.24879643,  0.12789202],\n",
    "       [ 0.28086119,  0.27569815,  0.18063401],\n",
    "       [ 0.26076848,  0.23892179,  0.23664738],\n",
    "       [ 0.29198961,  0.26234032,  0.16505091],\n",
    "       [ 0.34396535,  0.24206137,  0.16240774]]), indices=array([[3, 0, 5],\n",
    "       [0, 1, 4],\n",
    "       [0, 5, 1],\n",
    "       [1, 3, 5],\n",
    "       [1, 4, 3]], dtype=int32))\n",
    "```\n",
    "\n",
    "Looking just at the first row we get `[ 0.34763842,  0.24879643,  0.12789202]`, you can confirm these are the 3 largest probabilities in `a`. You'll also notice `[3, 0, 5]` are the corresponding indices."
   ]
  },
  {
   "cell_type": "code",
   "execution_count": null,
   "metadata": {},
   "outputs": [],
   "source": [
    "### Print out the top five softmax probabilities for the predictions on the German traffic sign images found on the web. \n",
    "### Feel free to use as many code cells as needed."
   ]
  },
  {
   "cell_type": "markdown",
   "metadata": {},
   "source": [
    "### Project Writeup\n",
    "\n",
    "Once you have completed the code implementation, document your results in a project writeup using this [template](https://github.com/udacity/CarND-Traffic-Sign-Classifier-Project/blob/master/writeup_template.md) as a guide. The writeup can be in a markdown or pdf file. "
   ]
  },
  {
   "cell_type": "markdown",
   "metadata": {},
   "source": [
    "> **Note**: Once you have completed all of the code implementations and successfully answered each question above, you may finalize your work by exporting the iPython Notebook as an HTML document. You can do this by using the menu above and navigating to  \\n\",\n",
    "    \"**File -> Download as -> HTML (.html)**. Include the finished document along with this notebook as your submission."
   ]
  },
  {
   "cell_type": "markdown",
   "metadata": {},
   "source": [
    "---\n",
    "\n",
    "## Step 4 (Optional): Visualize the Neural Network's State with Test Images\n",
    "\n",
    " This Section is not required to complete but acts as an additional excersise for understaning the output of a neural network's weights. While neural networks can be a great learning device they are often referred to as a black box. We can understand what the weights of a neural network look like better by plotting their feature maps. After successfully training your neural network you can see what it's feature maps look like by plotting the output of the network's weight layers in response to a test stimuli image. From these plotted feature maps, it's possible to see what characteristics of an image the network finds interesting. For a sign, maybe the inner network feature maps react with high activation to the sign's boundary outline or to the contrast in the sign's painted symbol.\n",
    "\n",
    " Provided for you below is the function code that allows you to get the visualization output of any tensorflow weight layer you want. The inputs to the function should be a stimuli image, one used during training or a new one you provided, and then the tensorflow variable name that represents the layer's state during the training process, for instance if you wanted to see what the [LeNet lab's](https://classroom.udacity.com/nanodegrees/nd013/parts/fbf77062-5703-404e-b60c-95b78b2f3f9e/modules/6df7ae49-c61c-4bb2-a23e-6527e69209ec/lessons/601ae704-1035-4287-8b11-e2c2716217ad/concepts/d4aca031-508f-4e0b-b493-e7b706120f81) feature maps looked like for it's second convolutional layer you could enter conv2 as the tf_activation variable.\n",
    "\n",
    "For an example of what feature map outputs look like, check out NVIDIA's results in their paper [End-to-End Deep Learning for Self-Driving Cars](https://devblogs.nvidia.com/parallelforall/deep-learning-self-driving-cars/) in the section Visualization of internal CNN State. NVIDIA was able to show that their network's inner weights had high activations to road boundary lines by comparing feature maps from an image with a clear path to one without. Try experimenting with a similar test to show that your trained network's weights are looking for interesting features, whether it's looking at differences in feature maps from images with or without a sign, or even what feature maps look like in a trained network vs a completely untrained one on the same sign image.\n",
    "\n",
    "<figure>\n",
    " <img src=\"visualize_cnn.png\" width=\"380\" alt=\"Combined Image\" />\n",
    " <figcaption>\n",
    " <p></p> \n",
    " <p style=\"text-align: center;\"> Your output should look something like this (above)</p> \n",
    " </figcaption>\n",
    "</figure>\n",
    " <p></p> \n"
   ]
  },
  {
   "cell_type": "code",
   "execution_count": null,
   "metadata": {},
   "outputs": [],
   "source": [
    "### Visualize your network's feature maps here.\n",
    "### Feel free to use as many code cells as needed.\n",
    "\n",
    "# image_input: the test image being fed into the network to produce the feature maps\n",
    "# tf_activation: should be a tf variable name used during your training procedure that represents the calculated state of a specific weight layer\n",
    "# activation_min/max: can be used to view the activation contrast in more detail, by default matplot sets min and max to the actual min and max values of the output\n",
    "# plt_num: used to plot out multiple different weight feature map sets on the same block, just extend the plt number for each new feature map entry\n",
    "\n",
    "def outputFeatureMap(image_input, tf_activation, activation_min=-1, activation_max=-1 ,plt_num=1):\n",
    "    # Here make sure to preprocess your image_input in a way your network expects\n",
    "    # with size, normalization, ect if needed\n",
    "    # image_input =\n",
    "    # Note: x should be the same name as your network's tensorflow data placeholder variable\n",
    "    # If you get an error tf_activation is not defined it may be having trouble accessing the variable from inside a function\n",
    "    activation = tf_activation.eval(session=sess,feed_dict={x : image_input})\n",
    "    featuremaps = activation.shape[3]\n",
    "    plt.figure(plt_num, figsize=(15,15))\n",
    "    for featuremap in range(featuremaps):\n",
    "        plt.subplot(6,8, featuremap+1) # sets the number of feature maps to show on each row and column\n",
    "        plt.title('FeatureMap ' + str(featuremap)) # displays the feature map number\n",
    "        if activation_min != -1 & activation_max != -1:\n",
    "            plt.imshow(activation[0,:,:, featuremap], interpolation=\"nearest\", vmin =activation_min, vmax=activation_max, cmap=\"gray\")\n",
    "        elif activation_max != -1:\n",
    "            plt.imshow(activation[0,:,:, featuremap], interpolation=\"nearest\", vmax=activation_max, cmap=\"gray\")\n",
    "        elif activation_min !=-1:\n",
    "            plt.imshow(activation[0,:,:, featuremap], interpolation=\"nearest\", vmin=activation_min, cmap=\"gray\")\n",
    "        else:\n",
    "            plt.imshow(activation[0,:,:, featuremap], interpolation=\"nearest\", cmap=\"gray\")"
   ]
  }
 ],
 "metadata": {
  "anaconda-cloud": {},
  "kernelspec": {
   "display_name": "Python 3",
   "language": "python",
   "name": "python3"
  },
  "language_info": {
   "codemirror_mode": {
    "name": "ipython",
    "version": 3
   },
   "file_extension": ".py",
   "mimetype": "text/x-python",
   "name": "python",
   "nbconvert_exporter": "python",
   "pygments_lexer": "ipython3",
   "version": "3.5.2"
  },
  "widgets": {
   "state": {},
   "version": "1.1.2"
  }
 },
 "nbformat": 4,
 "nbformat_minor": 1
}
